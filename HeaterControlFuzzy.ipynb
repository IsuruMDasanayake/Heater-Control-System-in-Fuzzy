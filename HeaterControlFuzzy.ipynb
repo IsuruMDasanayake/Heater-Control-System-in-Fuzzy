{
  "nbformat": 4,
  "nbformat_minor": 0,
  "metadata": {
    "colab": {
      "provenance": [],
      "authorship_tag": "ABX9TyNH9DHv4FNnWyJljK3D4rM4",
      "include_colab_link": true
    },
    "kernelspec": {
      "name": "python3",
      "display_name": "Python 3"
    },
    "language_info": {
      "name": "python"
    }
  },
  "cells": [
    {
      "cell_type": "markdown",
      "metadata": {
        "id": "view-in-github",
        "colab_type": "text"
      },
      "source": [
        "<a href=\"https://colab.research.google.com/github/IsuruMDasanayake/Heater-Control-System-in-Fuzzy/blob/main/HeaterControlFuzzy.ipynb\" target=\"_parent\"><img src=\"https://colab.research.google.com/assets/colab-badge.svg\" alt=\"Open In Colab\"/></a>"
      ]
    },
    {
      "cell_type": "markdown",
      "source": [
        "# **Heater Control System**"
      ],
      "metadata": {
        "id": "bzfjP00_GNdi"
      }
    },
    {
      "cell_type": "markdown",
      "source": [
        "\n",
        "\n",
        "*   **Inputs:**\n",
        "    Current Temperature (°C): Cold, Comfortable, Hot &\n",
        "    Desired Temperature (°C): Low, Medium, High\n",
        "\n",
        "*   **Outputs:**\n",
        "    Heater Power Level (%): Off, Low, Medium, High\n",
        "\n"
      ],
      "metadata": {
        "id": "fiM9_gDCHt88"
      }
    },
    {
      "cell_type": "code",
      "source": [
        "!pip install scikit-fuzzy"
      ],
      "metadata": {
        "colab": {
          "base_uri": "https://localhost:8080/"
        },
        "id": "F1JgM3umGRvt",
        "outputId": "48462613-034b-449a-b927-46c8d9c5b659"
      },
      "execution_count": 1,
      "outputs": [
        {
          "output_type": "stream",
          "name": "stdout",
          "text": [
            "Collecting scikit-fuzzy\n",
            "  Downloading scikit_fuzzy-0.5.0-py2.py3-none-any.whl.metadata (2.6 kB)\n",
            "Downloading scikit_fuzzy-0.5.0-py2.py3-none-any.whl (920 kB)\n",
            "\u001b[2K   \u001b[90m━━━━━━━━━━━━━━━━━━━━━━━━━━━━━━━━━━━━━━━━\u001b[0m \u001b[32m920.8/920.8 kB\u001b[0m \u001b[31m8.3 MB/s\u001b[0m eta \u001b[36m0:00:00\u001b[0m\n",
            "\u001b[?25hInstalling collected packages: scikit-fuzzy\n",
            "Successfully installed scikit-fuzzy-0.5.0\n"
          ]
        }
      ]
    },
    {
      "cell_type": "markdown",
      "source": [
        "**Import Libraries & Create Variables**"
      ],
      "metadata": {
        "id": "Zpb4GgjUGtZZ"
      }
    },
    {
      "cell_type": "code",
      "source": [
        "import numpy as np\n",
        "import skfuzzy as fuzz\n",
        "import skfuzzy.control as ctrl\n",
        "import matplotlib.pyplot as plt\n",
        "\n",
        "# Define fuzzy input variables\n",
        "current_temp = ctrl.Antecedent(np.arange(0, 41, 1), 'current_temp')\n",
        "desired_temp = ctrl.Antecedent(np.arange(0, 41, 1), 'desired_temp')\n",
        "\n",
        "# Define fuzzy output variable\n",
        "heater_power = ctrl.Consequent(np.arange(0, 101, 1), 'heater_power')\n"
      ],
      "metadata": {
        "id": "_0wD4rRaGu_x"
      },
      "execution_count": 2,
      "outputs": []
    },
    {
      "cell_type": "markdown",
      "source": [
        "**Define Membership Functions**"
      ],
      "metadata": {
        "id": "tcwrogwGGzrM"
      }
    },
    {
      "cell_type": "code",
      "source": [
        "# Current Temperature Membership Functions\n",
        "    #Cold: Trapezoidal (0-15°C)\n",
        "    #Comfortable: Triangular (10-25°C)\n",
        "    #Hot: Trapezoidal (20-40°C)\n",
        "\n",
        "current_temp['cold'] = fuzz.trapmf(current_temp.universe, [0, 0, 10, 15])\n",
        "current_temp['comfortable'] = fuzz.trimf(current_temp.universe, [10, 20, 25])\n",
        "current_temp['hot'] = fuzz.trapmf(current_temp.universe, [20, 30, 40, 40])\n",
        "\n",
        "# Desired Temperature Membership Functions\n",
        "    #Low: Trapezoidal (0-15°C)\n",
        "    #Medium: Triangular (10-25°C)\n",
        "    #High: Trapezoidal (20-40°C\n",
        "\n",
        "desired_temp['low'] = fuzz.trapmf(desired_temp.universe, [0, 0, 10, 15])\n",
        "desired_temp['medium'] = fuzz.trimf(desired_temp.universe, [10, 20, 25])\n",
        "desired_temp['high'] = fuzz.trapmf(desired_temp.universe, [20, 30, 40, 40])\n",
        "\n",
        "#Heater Power Membership Functions\n",
        "    #Off: Trapezoidal (0-25%)\n",
        "    #Low: Triangular (20-50%)\n",
        "    #Medium: Triangular (40-70%)\n",
        "    #High: Trapezoidal (60-100%)\n",
        "heater_power['off'] = fuzz.trapmf(heater_power.universe, [0, 0, 10, 25])\n",
        "heater_power['low'] = fuzz.trimf(heater_power.universe, [20, 35, 50])\n",
        "heater_power['medium'] = fuzz.trimf(heater_power.universe, [40, 55, 70])\n",
        "heater_power['high'] = fuzz.trapmf(heater_power.universe, [60, 80, 100, 100])"
      ],
      "metadata": {
        "id": "rJaE_mbdG13g"
      },
      "execution_count": 3,
      "outputs": []
    },
    {
      "cell_type": "markdown",
      "source": [
        "**Define Fuzzy Rules**\n",
        "\n",
        "    IF Current temperature is Cold AND Desired temperature is High THEN Heater power is High.\n",
        "    IF Current temperature is Comfortable AND Desired temperature is Medium THEN Heater power is Low.\n",
        "    IF Current temperature is Hot AND Desired temperature is Low THEN Heater power is Off.\n",
        "    IF Current temperature is Cold AND Desired temperature is Medium THEN Heater power is Medium.\n",
        "    IF Current temperature is Comfortable AND Desired temperature is High THEN Heater power is Medium.\n",
        "    IF Current temperature is Hot AND Desired temperature is High THEN Heater power is Low.\n",
        "    IF Current temperature is Cold AND Desired temperature is Low THEN Heater power is Low.\n",
        "    IF Current temperature is Comfortable AND Desired temperature is Low THEN Heater power is Off."
      ],
      "metadata": {
        "id": "I5-eRnDxJHAr"
      }
    },
    {
      "cell_type": "code",
      "source": [
        "# Define fuzzy rules\n",
        "rule1 = ctrl.Rule(current_temp['cold'] & desired_temp['high'], heater_power['high'])\n",
        "rule2 = ctrl.Rule(current_temp['comfortable'] & desired_temp['medium'], heater_power['low'])\n",
        "rule3 = ctrl.Rule(current_temp['hot'] & desired_temp['low'], heater_power['off'])\n",
        "rule4 = ctrl.Rule(current_temp['cold'] & desired_temp['medium'], heater_power['medium'])\n",
        "rule5 = ctrl.Rule(current_temp['comfortable'] & desired_temp['high'], heater_power['medium'])\n",
        "rule6 = ctrl.Rule(current_temp['hot'] & desired_temp['high'], heater_power['low'])\n",
        "rule7 = ctrl.Rule(current_temp['cold'] & desired_temp['low'], heater_power['low'])\n",
        "rule8 = ctrl.Rule(current_temp['comfortable'] & desired_temp['low'], heater_power['off'])"
      ],
      "metadata": {
        "id": "FzmK9rAwJVaq"
      },
      "execution_count": 4,
      "outputs": []
    },
    {
      "cell_type": "markdown",
      "source": [
        "**Creating the Fuzzy Control System**"
      ],
      "metadata": {
        "id": "PnDRDbUJJfZj"
      }
    },
    {
      "cell_type": "code",
      "source": [
        "# Create control system\n",
        "heater_control_system = ctrl.ControlSystem([rule1, rule2, rule3, rule4, rule5, rule6, rule7, rule8])\n",
        "\n",
        "# Create simulation\n",
        "heater_simulation = ctrl.ControlSystemSimulation(heater_control_system)"
      ],
      "metadata": {
        "id": "bN-MH7ENJgqx"
      },
      "execution_count": 5,
      "outputs": []
    },
    {
      "cell_type": "markdown",
      "source": [
        "**Testing the System with Different Scenarios**"
      ],
      "metadata": {
        "id": "D8ain13KJmTF"
      }
    },
    {
      "cell_type": "code",
      "source": [
        "# Scenario 01\n",
        "# Set input values\n",
        "heater_simulation.input['current_temp'] = 10\n",
        "heater_simulation.input['desired_temp'] = 30\n",
        "\n",
        "# Compute the output\n",
        "heater_simulation.compute()\n",
        "print(f\"Heater Power Level: {heater_simulation.output['heater_power']:.2f}%\")"
      ],
      "metadata": {
        "colab": {
          "base_uri": "https://localhost:8080/"
        },
        "id": "dApwWLvBJn1n",
        "outputId": "064662e6-9ab0-4578-96f6-4bb1fa05f19d"
      },
      "execution_count": 11,
      "outputs": [
        {
          "output_type": "stream",
          "name": "stdout",
          "text": [
            "Heater Power Level: 84.44%\n"
          ]
        }
      ]
    },
    {
      "cell_type": "code",
      "source": [
        "# Senario 02\n",
        "heater_simulation.input['current_temp'] = 25\n",
        "heater_simulation.input['desired_temp'] = 20\n",
        "\n",
        "# Compute the output\n",
        "heater_simulation.compute()\n",
        "print(f\"Heater Power Level: {heater_simulation.output['heater_power']:.2f}%\")"
      ],
      "metadata": {
        "colab": {
          "base_uri": "https://localhost:8080/"
        },
        "id": "wTyW9PTtKaJf",
        "outputId": "d00294a6-0150-47f5-e523-bccd70dfbc80"
      },
      "execution_count": 12,
      "outputs": [
        {
          "output_type": "stream",
          "name": "stdout",
          "text": [
            "Heater Power Level: 84.44%\n"
          ]
        }
      ]
    },
    {
      "cell_type": "code",
      "source": [
        "# Senario 03\n",
        "heater_simulation.input['current_temp'] = 23\n",
        "heater_simulation.input['desired_temp'] = 10\n",
        "\n",
        "# Compute the output\n",
        "heater_simulation.compute()\n",
        "print(f\"Heater Power Level: {heater_simulation.output['heater_power']:.2f}%\")"
      ],
      "metadata": {
        "colab": {
          "base_uri": "https://localhost:8080/"
        },
        "id": "YQfACZPJK2RF",
        "outputId": "0fa27447-df0d-440d-8117-4f5eb030c060"
      },
      "execution_count": 13,
      "outputs": [
        {
          "output_type": "stream",
          "name": "stdout",
          "text": [
            "Heater Power Level: 11.07%\n"
          ]
        }
      ]
    },
    {
      "cell_type": "code",
      "source": [
        "# Visualizing the heater power membership functions\n",
        "heater_power.view()\n",
        "plt.show()"
      ],
      "metadata": {
        "colab": {
          "base_uri": "https://localhost:8080/",
          "height": 451
        },
        "id": "iYwJHBkvLBLz",
        "outputId": "2ac3814d-d2dd-4057-bbd8-12389c450fae"
      },
      "execution_count": 14,
      "outputs": [
        {
          "output_type": "display_data",
          "data": {
            "text/plain": [
              "<Figure size 640x480 with 1 Axes>"
            ],
            "image/png": "[encoded data removed]"
          },
          "metadata": {}
        }
      ]
    }
  ]
}